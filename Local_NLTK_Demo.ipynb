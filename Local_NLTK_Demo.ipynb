{
 "cells": [
  {
   "cell_type": "markdown",
   "metadata": {},
   "source": [
    "# BASIC NLTK DEMO\n",
    "In this demo, we will show you some basic functions that NLTK provides."
   ]
  },
  {
   "cell_type": "code",
   "execution_count": 1,
   "metadata": {},
   "outputs": [
    {
     "name": "stdout",
     "output_type": "stream",
     "text": [
      "showing info https://raw.githubusercontent.com/nltk/nltk_data/gh-pages/index.xml\n"
     ]
    },
    {
     "data": {
      "text/plain": [
       "True"
      ]
     },
     "execution_count": 1,
     "metadata": {},
     "output_type": "execute_result"
    }
   ],
   "source": [
    "import nltk\n",
    "nltk.download()"
   ]
  },
  {
   "cell_type": "markdown",
   "metadata": {},
   "source": [
    "NLTK comes with many *corpora*, which are basically the datasets of NLP like spreadsheets are the datasets for financial ML. A corporus is just a huge file containing some text.\n",
    "\n",
    "For example, there is a corporus containing all stop words in English, which will often times be useful when working with large samples of text, because those words don't really have much of an effect on the overall semantics of an article."
   ]
  },
  {
   "cell_type": "code",
   "execution_count": 100,
   "metadata": {},
   "outputs": [],
   "source": [
    "# Get some text\n",
    "from nltk.corpus import gutenberg\n",
    "text = gutenberg.raw('shakespeare-macbeth.txt')"
   ]
  },
  {
   "cell_type": "markdown",
   "metadata": {},
   "source": [
    "# Example 1 - Basics\n",
    "Doing some basic text manipulation on Shakespeare text.\n",
    "\n",
    "First step: remove all of those meaningless stopwords and punctuations (cleaning the dataset)."
   ]
  },
  {
   "cell_type": "code",
   "execution_count": 101,
   "metadata": {},
   "outputs": [],
   "source": [
    "from nltk.corpus import stopwords as sw\n",
    "from string import punctuation\n",
    "from nltk.tokenize import *\n",
    "\n",
    "stopwords = sw.words('english')\n",
    "\n",
    "# Given tokens `t`, return `t` without any stopwords.\n",
    "def remove_stopwords(t):\n",
    "   return [w for w in t if not w in stopwords]\n",
    "\n",
    "# Given tokens `t`, return `t` without any punctuation.\n",
    "def remove_punctuation(t):\n",
    "   return [w for w in t if not w in punctuation]\n",
    "\n",
    "tokens = word_tokenize(text) # Tokenize the words\n",
    "tokens = remove_stopwords(tokens) # Remove the stopwords\n",
    "tokens = remove_punctuation(tokens) # Remove the punctuation"
   ]
  },
  {
   "cell_type": "markdown",
   "metadata": {},
   "source": [
    "## Exploratory data analysis\n",
    "Find the most common words and plot them in a graph like this."
   ]
  },
  {
   "cell_type": "code",
   "execution_count": 102,
   "metadata": {},
   "outputs": [
    {
     "data": {
      "image/png": "[encoded data removed]",
      "text/plain": [
       "<Figure size 432x288 with 1 Axes>"
      ]
     },
     "metadata": {
      "needs_background": "light"
     },
     "output_type": "display_data"
    },
    {
     "data": {
      "text/plain": [
       "<matplotlib.axes._subplots.AxesSubplot at 0x7f6238207e50>"
      ]
     },
     "execution_count": 102,
     "metadata": {},
     "output_type": "execute_result"
    }
   ],
   "source": [
    "freq = nltk.FreqDist(tokens)\n",
    "freq.plot(20, cumulative=False)"
   ]
  },
  {
   "cell_type": "markdown",
   "metadata": {},
   "source": [
    "# Example 2 - Grammar Parsing\n",
    "Here we will use NLTK to truly parse some text, not just tokenize it. This is useful for getting an understanding of the grammar of the sentence, which is an important step towards understanding the semantics.\n",
    "\n",
    "## Setup the parsing server\n",
    "Basically, run some code that sets up the code to be able to parse sentences."
   ]
  },
  {
   "cell_type": "code",
   "execution_count": 3,
   "metadata": {},
   "outputs": [
    {
     "ename": "CoreNLPServerError",
     "evalue": "Could not connect to the server.",
     "output_type": "error",
     "traceback": [
      "\u001b[0;31m---------------------------------------------------------------------------\u001b[0m",
      "\u001b[0;31mCoreNLPServerError\u001b[0m                        Traceback (most recent call last)",
      "\u001b[0;32m<ipython-input-3-202318efc706>\u001b[0m in \u001b[0;36m<module>\u001b[0;34m\u001b[0m\n\u001b[1;32m     10\u001b[0m \u001b[0;34m\u001b[0m\u001b[0m\n\u001b[1;32m     11\u001b[0m \u001b[0;31m# Start the server\u001b[0m\u001b[0;34m\u001b[0m\u001b[0;34m\u001b[0m\u001b[0;34m\u001b[0m\u001b[0m\n\u001b[0;32m---> 12\u001b[0;31m \u001b[0mserver\u001b[0m\u001b[0;34m.\u001b[0m\u001b[0mstart\u001b[0m\u001b[0;34m(\u001b[0m\u001b[0;34m)\u001b[0m\u001b[0;34m\u001b[0m\u001b[0;34m\u001b[0m\u001b[0m\n\u001b[0m",
      "\u001b[0;32m~/anaconda3/lib/python3.7/site-packages/nltk/parse/corenlp.py\u001b[0m in \u001b[0;36mstart\u001b[0;34m(self, stdout, stderr)\u001b[0m\n\u001b[1;32m    153\u001b[0m                     \u001b[0;32mbreak\u001b[0m\u001b[0;34m\u001b[0m\u001b[0;34m\u001b[0m\u001b[0m\n\u001b[1;32m    154\u001b[0m         \u001b[0;32melse\u001b[0m\u001b[0;34m:\u001b[0m\u001b[0;34m\u001b[0m\u001b[0;34m\u001b[0m\u001b[0m\n\u001b[0;32m--> 155\u001b[0;31m             \u001b[0;32mraise\u001b[0m \u001b[0mCoreNLPServerError\u001b[0m\u001b[0;34m(\u001b[0m\u001b[0;34m'Could not connect to the server.'\u001b[0m\u001b[0;34m)\u001b[0m\u001b[0;34m\u001b[0m\u001b[0;34m\u001b[0m\u001b[0m\n\u001b[0m\u001b[1;32m    156\u001b[0m \u001b[0;34m\u001b[0m\u001b[0m\n\u001b[1;32m    157\u001b[0m         \u001b[0;32mfor\u001b[0m \u001b[0mi\u001b[0m \u001b[0;32min\u001b[0m \u001b[0mrange\u001b[0m\u001b[0;34m(\u001b[0m\u001b[0;36m60\u001b[0m\u001b[0;34m)\u001b[0m\u001b[0;34m:\u001b[0m\u001b[0;34m\u001b[0m\u001b[0;34m\u001b[0m\u001b[0m\n",
      "\u001b[0;31mCoreNLPServerError\u001b[0m: Could not connect to the server."
     ]
    }
   ],
   "source": [
    "import os\n",
    "from nltk.parse.corenlp import CoreNLPParser, CoreNLPServer\n",
    "\n",
    "# Init the server\n",
    "JAR_PATH = os.path.join('stanford-corenlp-latest', 'stanford-corenlp-4.0.0')\n",
    "server = CoreNLPServer(\n",
    "   os.path.join(JAR_PATH, \"stanford-corenlp-4.0.0.jar\"),\n",
    "   os.path.join(JAR_PATH, \"stanford-corenlp-4.0.0-models.jar\"),    \n",
    ")\n",
    "\n",
    "# Start the server\n",
    "server.start()"
   ]
  },
  {
   "cell_type": "markdown",
   "metadata": {},
   "source": [
    "## Parsing the grammar\n",
    "Now comes the code to actually use this language server and parse some arbitrary sentences with it. You could also run this code from the command line (probably something like `java -jar stanford-corenlp.jar` would do the trick), but its more convenient to just do it all in the notebook."
   ]
  },
  {
   "cell_type": "code",
   "execution_count": 4,
   "metadata": {},
   "outputs": [
    {
     "name": "stdout",
     "output_type": "stream",
     "text": [
      "The student sat next to his friend in the classroom.\n",
      "(ROOT\n",
      "  (S\n",
      "    (NP (DT The) (NN student))\n",
      "    (VP\n",
      "      (VBD sat)\n",
      "      (ADVP (RB next))\n",
      "      (PP (IN to) (NP (PRP$ his) (NN friend)))\n",
      "      (PP (IN in) (NP (DT the) (NN classroom))))\n",
      "    (. .)))\n",
      "\n",
      "I opened the oven to get my food.\n",
      "(ROOT\n",
      "  (S\n",
      "    (NP (PRP I))\n",
      "    (VP\n",
      "      (VBD opened)\n",
      "      (NP (DT the) (NN oven))\n",
      "      (S (VP (TO to) (VP (VB get) (NP (PRP$ my) (NN food))))))\n",
      "    (. .)))\n",
      "\n",
      "Machine Learning is a subset of Artificial Intelligence.\n",
      "(ROOT\n",
      "  (S\n",
      "    (NP (NN Machine) (NN Learning))\n",
      "    (VP\n",
      "      (VBZ is)\n",
      "      (NP\n",
      "        (NP (DT a) (NN subset))\n",
      "        (PP (IN of) (NP (NNP Artificial) (NNP Intelligence)))))\n",
      "    (. .)))\n",
      "\n"
     ]
    }
   ],
   "source": [
    "# Make some sentences\n",
    "sents = [\n",
    "    'The student sat next to his friend in the classroom.',\n",
    "    'I opened the oven to get my food.',\n",
    "    'Machine Learning is a subset of Artificial Intelligence.',\n",
    "]\n",
    "\n",
    "# Parse the grammar of some sentences\n",
    "for sent in sents:\n",
    "    parser = CoreNLPParser() # Initialize the parser\n",
    "    grammar = next(parser.raw_parse(sent)) # Parse the sentence\n",
    "    \n",
    "    # Display the parsing\n",
    "    print(sent) # Print the sentence\n",
    "    print(grammar, end='\\n\\n') # Print the grammar\n",
    "    \n",
    "    # Show the grammar tree\n",
    "    grammar.draw()"
   ]
  },
  {
   "cell_type": "code",
   "execution_count": null,
   "metadata": {},
   "outputs": [],
   "source": []
  }
 ],
 "metadata": {
  "kernelspec": {
   "display_name": "Python 3",
   "language": "python",
   "name": "python3"
  },
  "language_info": {
   "codemirror_mode": {
    "name": "ipython",
    "version": 3
   },
   "file_extension": ".py",
   "mimetype": "text/x-python",
   "name": "python",
   "nbconvert_exporter": "python",
   "pygments_lexer": "ipython3",
   "version": "3.7.6"
  }
 },
 "nbformat": 4,
 "nbformat_minor": 4
}
