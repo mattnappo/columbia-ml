{
 "cells": [
  {
   "cell_type": "markdown",
   "metadata": {},
   "source": [
    "# Basic Logistic Regression Classification Example\n",
    "The dataset is for sales forecasting. The model will predict a sales opportunity."
   ]
  },
  {
   "cell_type": "code",
   "execution_count": 12,
   "metadata": {},
   "outputs": [],
   "source": [
    "import pandas as pd\n",
    "import numpy as np\n",
    "import matplotlib.pyplot as plt\n",
    "import seaborn as sns\n",
    "import warnings\n",
    "\n",
    "warnings.filterwarnings('ignore')\n",
    "%matplotlib inline\n",
    "DATA = './data/'"
   ]
  },
  {
   "cell_type": "code",
   "execution_count": 16,
   "metadata": {},
   "outputs": [
    {
     "data": {
      "text/html": [
       "<div>\n",
       "<style scoped>\n",
       "    .dataframe tbody tr th:only-of-type {\n",
       "        vertical-align: middle;\n",
       "    }\n",
       "\n",
       "    .dataframe tbody tr th {\n",
       "        vertical-align: top;\n",
       "    }\n",
       "\n",
       "    .dataframe thead th {\n",
       "        text-align: right;\n",
       "    }\n",
       "</style>\n",
       "<table border=\"1\" class=\"dataframe\">\n",
       "  <thead>\n",
       "    <tr style=\"text-align: right;\">\n",
       "      <th></th>\n",
       "      <th>Project ID</th>\n",
       "      <th>Opportunity Owner</th>\n",
       "      <th>Account Name</th>\n",
       "      <th>Stage</th>\n",
       "      <th>Amount</th>\n",
       "      <th>Expected Revenue</th>\n",
       "      <th>Probability</th>\n",
       "      <th>Service Category</th>\n",
       "      <th>Service Line</th>\n",
       "      <th>Stage Number</th>\n",
       "      <th>New Business</th>\n",
       "      <th>Account Type</th>\n",
       "      <th>Billing Type</th>\n",
       "      <th>MSA Signed</th>\n",
       "      <th>Unsolicited Proposal</th>\n",
       "      <th>Deliverable Type</th>\n",
       "    </tr>\n",
       "  </thead>\n",
       "  <tbody>\n",
       "    <tr>\n",
       "      <th>0</th>\n",
       "      <td>1</td>\n",
       "      <td>Amandeep Sidhu</td>\n",
       "      <td>Dana Companies, Llc</td>\n",
       "      <td>Signed Contract</td>\n",
       "      <td>7680.0</td>\n",
       "      <td>7680.0</td>\n",
       "      <td>1</td>\n",
       "      <td>NaN</td>\n",
       "      <td>Enterprise Solutions</td>\n",
       "      <td>8</td>\n",
       "      <td>0</td>\n",
       "      <td>US-Central BU</td>\n",
       "      <td>Time and Expense</td>\n",
       "      <td>0</td>\n",
       "      <td>No</td>\n",
       "      <td>Scope of Work / Project</td>\n",
       "    </tr>\n",
       "    <tr>\n",
       "      <th>1</th>\n",
       "      <td>2</td>\n",
       "      <td>Amandeep Sidhu</td>\n",
       "      <td>Dana Companies, Llc</td>\n",
       "      <td>Verbal Agreement</td>\n",
       "      <td>6400.0</td>\n",
       "      <td>5760.0</td>\n",
       "      <td>1</td>\n",
       "      <td>NaN</td>\n",
       "      <td>Enterprise Solutions</td>\n",
       "      <td>7</td>\n",
       "      <td>0</td>\n",
       "      <td>US-Central BU</td>\n",
       "      <td>Time and Expense</td>\n",
       "      <td>0</td>\n",
       "      <td>No</td>\n",
       "      <td>Scope of Work / Project</td>\n",
       "    </tr>\n",
       "    <tr>\n",
       "      <th>2</th>\n",
       "      <td>3</td>\n",
       "      <td>Amandeep Sidhu</td>\n",
       "      <td>Dana Companies, Llc</td>\n",
       "      <td>Verbal Agreement</td>\n",
       "      <td>3600.0</td>\n",
       "      <td>3240.0</td>\n",
       "      <td>1</td>\n",
       "      <td>NaN</td>\n",
       "      <td>Enterprise Solutions</td>\n",
       "      <td>7</td>\n",
       "      <td>0</td>\n",
       "      <td>US-Central BU</td>\n",
       "      <td>Time and Expense</td>\n",
       "      <td>0</td>\n",
       "      <td>No</td>\n",
       "      <td>Scope of Work / Project</td>\n",
       "    </tr>\n",
       "    <tr>\n",
       "      <th>3</th>\n",
       "      <td>4</td>\n",
       "      <td>Amandeep Sidhu</td>\n",
       "      <td>Dana Companies, Llc</td>\n",
       "      <td>Verbal Agreement</td>\n",
       "      <td>3600.0</td>\n",
       "      <td>3240.0</td>\n",
       "      <td>1</td>\n",
       "      <td>NaN</td>\n",
       "      <td>Enterprise Solutions</td>\n",
       "      <td>7</td>\n",
       "      <td>0</td>\n",
       "      <td>US-Central BU</td>\n",
       "      <td>Time and Expense</td>\n",
       "      <td>0</td>\n",
       "      <td>No</td>\n",
       "      <td>Scope of Work / Project</td>\n",
       "    </tr>\n",
       "    <tr>\n",
       "      <th>4</th>\n",
       "      <td>5</td>\n",
       "      <td>Anand Nair</td>\n",
       "      <td>Wellpoint, Inc</td>\n",
       "      <td>Signed Contract</td>\n",
       "      <td>50224.0</td>\n",
       "      <td>50224.0</td>\n",
       "      <td>1</td>\n",
       "      <td>Mainframe Systems</td>\n",
       "      <td>Technology Build Services</td>\n",
       "      <td>8</td>\n",
       "      <td>0</td>\n",
       "      <td>WellPoint BU</td>\n",
       "      <td>Flat Fee Monthly</td>\n",
       "      <td>0</td>\n",
       "      <td>No</td>\n",
       "      <td>Staff Augmentation</td>\n",
       "    </tr>\n",
       "    <tr>\n",
       "      <th>5</th>\n",
       "      <td>6</td>\n",
       "      <td>Anand Nair</td>\n",
       "      <td>Wellpoint, Inc</td>\n",
       "      <td>Signed Contract</td>\n",
       "      <td>205842.0</td>\n",
       "      <td>205842.0</td>\n",
       "      <td>1</td>\n",
       "      <td>NaN</td>\n",
       "      <td>Technology Build Services</td>\n",
       "      <td>8</td>\n",
       "      <td>0</td>\n",
       "      <td>WellPoint BU</td>\n",
       "      <td>Flat Fee Monthly</td>\n",
       "      <td>0</td>\n",
       "      <td>No</td>\n",
       "      <td>Staff Augmentation</td>\n",
       "    </tr>\n",
       "    <tr>\n",
       "      <th>6</th>\n",
       "      <td>7</td>\n",
       "      <td>Anand Nair</td>\n",
       "      <td>Wellpoint, Inc</td>\n",
       "      <td>Signed Contract</td>\n",
       "      <td>192066.0</td>\n",
       "      <td>192066.0</td>\n",
       "      <td>1</td>\n",
       "      <td>NaN</td>\n",
       "      <td>Technology Build Services</td>\n",
       "      <td>8</td>\n",
       "      <td>0</td>\n",
       "      <td>WellPoint BU</td>\n",
       "      <td>Flat Fee Monthly</td>\n",
       "      <td>0</td>\n",
       "      <td>No</td>\n",
       "      <td>Staff Augmentation</td>\n",
       "    </tr>\n",
       "    <tr>\n",
       "      <th>7</th>\n",
       "      <td>8</td>\n",
       "      <td>Arun Satyan</td>\n",
       "      <td>OfficeMax Incorporated</td>\n",
       "      <td>Proposal On-desk Stage</td>\n",
       "      <td>50000.0</td>\n",
       "      <td>30000.0</td>\n",
       "      <td>1</td>\n",
       "      <td>Mainframe Systems</td>\n",
       "      <td>Technology Build Services</td>\n",
       "      <td>5</td>\n",
       "      <td>0</td>\n",
       "      <td>US-Central BU</td>\n",
       "      <td>Time and Expense</td>\n",
       "      <td>0</td>\n",
       "      <td>No</td>\n",
       "      <td>Staff Augmentation</td>\n",
       "    </tr>\n",
       "    <tr>\n",
       "      <th>8</th>\n",
       "      <td>9</td>\n",
       "      <td>Brian Runyan</td>\n",
       "      <td>Sempra Energy</td>\n",
       "      <td>Opportunity Identification Stage</td>\n",
       "      <td>10000000.0</td>\n",
       "      <td>3000000.0</td>\n",
       "      <td>0</td>\n",
       "      <td>NaN</td>\n",
       "      <td>Application Managed Services</td>\n",
       "      <td>3</td>\n",
       "      <td>0</td>\n",
       "      <td>US-West BU</td>\n",
       "      <td>Flat Fee Monthly</td>\n",
       "      <td>0</td>\n",
       "      <td>Yes</td>\n",
       "      <td>Managed Services / SLA Based</td>\n",
       "    </tr>\n",
       "    <tr>\n",
       "      <th>9</th>\n",
       "      <td>10</td>\n",
       "      <td>Chris Bryson</td>\n",
       "      <td>Starbucks</td>\n",
       "      <td>Proposal Preparation Stage</td>\n",
       "      <td>148200.0</td>\n",
       "      <td>74100.0</td>\n",
       "      <td>1</td>\n",
       "      <td>NaN</td>\n",
       "      <td>Technology Build Services</td>\n",
       "      <td>4</td>\n",
       "      <td>0</td>\n",
       "      <td>US-West BU</td>\n",
       "      <td>Fixed Bid</td>\n",
       "      <td>0</td>\n",
       "      <td>No</td>\n",
       "      <td>Scope of Work / Project</td>\n",
       "    </tr>\n",
       "    <tr>\n",
       "      <th>10</th>\n",
       "      <td>11</td>\n",
       "      <td>Chris Bryson</td>\n",
       "      <td>CareFusion</td>\n",
       "      <td>Proposal Preparation Stage</td>\n",
       "      <td>500000.0</td>\n",
       "      <td>250000.0</td>\n",
       "      <td>1</td>\n",
       "      <td>NaN</td>\n",
       "      <td>Enterprise Solutions</td>\n",
       "      <td>4</td>\n",
       "      <td>0</td>\n",
       "      <td>US-West BU</td>\n",
       "      <td>Flat Fee Monthly</td>\n",
       "      <td>1</td>\n",
       "      <td>No</td>\n",
       "      <td>Managed Services / SLA Based</td>\n",
       "    </tr>\n",
       "    <tr>\n",
       "      <th>11</th>\n",
       "      <td>12</td>\n",
       "      <td>Haresh Tripathi</td>\n",
       "      <td>Cisco</td>\n",
       "      <td>Signed Contract</td>\n",
       "      <td>68628.0</td>\n",
       "      <td>68628.0</td>\n",
       "      <td>1</td>\n",
       "      <td>Java Systems</td>\n",
       "      <td>Technology Build Services</td>\n",
       "      <td>8</td>\n",
       "      <td>1</td>\n",
       "      <td>Cisco</td>\n",
       "      <td>Flat Fee Monthly</td>\n",
       "      <td>0</td>\n",
       "      <td>Yes</td>\n",
       "      <td>Staff Augmentation</td>\n",
       "    </tr>\n",
       "    <tr>\n",
       "      <th>12</th>\n",
       "      <td>13</td>\n",
       "      <td>Haresh Tripathi</td>\n",
       "      <td>Cisco</td>\n",
       "      <td>Proposal Preparation Stage</td>\n",
       "      <td>800000.0</td>\n",
       "      <td>400000.0</td>\n",
       "      <td>1</td>\n",
       "      <td>NaN</td>\n",
       "      <td>Infrastructure Management Services</td>\n",
       "      <td>4</td>\n",
       "      <td>0</td>\n",
       "      <td>Cisco</td>\n",
       "      <td>Time and Expense</td>\n",
       "      <td>0</td>\n",
       "      <td>Yes</td>\n",
       "      <td>Staff Augmentation</td>\n",
       "    </tr>\n",
       "    <tr>\n",
       "      <th>13</th>\n",
       "      <td>14</td>\n",
       "      <td>Haresh Tripathi</td>\n",
       "      <td>Cisco</td>\n",
       "      <td>Proposal Preparation Stage</td>\n",
       "      <td>10000.0</td>\n",
       "      <td>5000.0</td>\n",
       "      <td>1</td>\n",
       "      <td>NaN</td>\n",
       "      <td>Application Managed Services</td>\n",
       "      <td>4</td>\n",
       "      <td>0</td>\n",
       "      <td>Cisco</td>\n",
       "      <td>T and E with Cap</td>\n",
       "      <td>0</td>\n",
       "      <td>No</td>\n",
       "      <td>Staff Augmentation</td>\n",
       "    </tr>\n",
       "    <tr>\n",
       "      <th>14</th>\n",
       "      <td>15</td>\n",
       "      <td>James Jarvis</td>\n",
       "      <td>Alliance Boots Holdings Ltd.</td>\n",
       "      <td>Proposal On-desk Stage</td>\n",
       "      <td>750000.0</td>\n",
       "      <td>525000.0</td>\n",
       "      <td>1</td>\n",
       "      <td>Domain-specific Testing</td>\n",
       "      <td>Quality and Testing</td>\n",
       "      <td>5</td>\n",
       "      <td>0</td>\n",
       "      <td>Europe BU</td>\n",
       "      <td>Flat Fee Monthly</td>\n",
       "      <td>1</td>\n",
       "      <td>No</td>\n",
       "      <td>Staff Augmentation</td>\n",
       "    </tr>\n",
       "    <tr>\n",
       "      <th>15</th>\n",
       "      <td>16</td>\n",
       "      <td>James Jarvis</td>\n",
       "      <td>UBS</td>\n",
       "      <td>Opportunity Identification Stage</td>\n",
       "      <td>7000000.0</td>\n",
       "      <td>3500000.0</td>\n",
       "      <td>1</td>\n",
       "      <td>NaN</td>\n",
       "      <td>Application Managed Services</td>\n",
       "      <td>3</td>\n",
       "      <td>1</td>\n",
       "      <td>Europe BU</td>\n",
       "      <td>Flat Fee Monthly</td>\n",
       "      <td>0</td>\n",
       "      <td>Yes</td>\n",
       "      <td>Managed Services / SLA Based</td>\n",
       "    </tr>\n",
       "    <tr>\n",
       "      <th>16</th>\n",
       "      <td>17</td>\n",
       "      <td>James Jarvis</td>\n",
       "      <td>Alliance Boots Holdings Ltd.</td>\n",
       "      <td>Opportunity Identification Stage</td>\n",
       "      <td>350000.0</td>\n",
       "      <td>105000.0</td>\n",
       "      <td>0</td>\n",
       "      <td>NaN</td>\n",
       "      <td>Quality and Testing</td>\n",
       "      <td>3</td>\n",
       "      <td>0</td>\n",
       "      <td>Europe BU</td>\n",
       "      <td>Time and Expense</td>\n",
       "      <td>1</td>\n",
       "      <td>No</td>\n",
       "      <td>Staff Augmentation</td>\n",
       "    </tr>\n",
       "    <tr>\n",
       "      <th>17</th>\n",
       "      <td>18</td>\n",
       "      <td>James Jarvis</td>\n",
       "      <td>Specsavers Optical Group Limited</td>\n",
       "      <td>Opportunity Identification Stage</td>\n",
       "      <td>2500000.0</td>\n",
       "      <td>750000.0</td>\n",
       "      <td>0</td>\n",
       "      <td>NaN</td>\n",
       "      <td>Enterprise Solutions</td>\n",
       "      <td>3</td>\n",
       "      <td>1</td>\n",
       "      <td>Europe BU</td>\n",
       "      <td>Fixed Bid</td>\n",
       "      <td>0</td>\n",
       "      <td>No</td>\n",
       "      <td>Scope of Work / Project</td>\n",
       "    </tr>\n",
       "    <tr>\n",
       "      <th>18</th>\n",
       "      <td>19</td>\n",
       "      <td>Jose Ossa</td>\n",
       "      <td>Vanguard</td>\n",
       "      <td>Negotiation / Short-list Stage</td>\n",
       "      <td>718411.0</td>\n",
       "      <td>574728.8</td>\n",
       "      <td>1</td>\n",
       "      <td>Microsoft Systems</td>\n",
       "      <td>Technology Build Services</td>\n",
       "      <td>6</td>\n",
       "      <td>0</td>\n",
       "      <td>US-East BU</td>\n",
       "      <td>Fixed Bid</td>\n",
       "      <td>0</td>\n",
       "      <td>No</td>\n",
       "      <td>Scope of Work / Project</td>\n",
       "    </tr>\n",
       "    <tr>\n",
       "      <th>19</th>\n",
       "      <td>20</td>\n",
       "      <td>Jose Ossa</td>\n",
       "      <td>Vanguard</td>\n",
       "      <td>Verbal Agreement</td>\n",
       "      <td>61920.0</td>\n",
       "      <td>55728.0</td>\n",
       "      <td>1</td>\n",
       "      <td>NaN</td>\n",
       "      <td>Quality and Testing</td>\n",
       "      <td>7</td>\n",
       "      <td>0</td>\n",
       "      <td>US-East BU</td>\n",
       "      <td>Time and Expense</td>\n",
       "      <td>0</td>\n",
       "      <td>No</td>\n",
       "      <td>Staff Augmentation</td>\n",
       "    </tr>\n",
       "  </tbody>\n",
       "</table>\n",
       "</div>"
      ],
      "text/plain": [
       "    Project ID Opportunity Owner                      Account Name  \\\n",
       "0            1    Amandeep Sidhu               Dana Companies, Llc   \n",
       "1            2    Amandeep Sidhu               Dana Companies, Llc   \n",
       "2            3    Amandeep Sidhu               Dana Companies, Llc   \n",
       "3            4    Amandeep Sidhu               Dana Companies, Llc   \n",
       "4            5        Anand Nair                    Wellpoint, Inc   \n",
       "5            6        Anand Nair                    Wellpoint, Inc   \n",
       "6            7        Anand Nair                    Wellpoint, Inc   \n",
       "7            8       Arun Satyan            OfficeMax Incorporated   \n",
       "8            9      Brian Runyan                     Sempra Energy   \n",
       "9           10      Chris Bryson                         Starbucks   \n",
       "10          11      Chris Bryson                        CareFusion   \n",
       "11          12   Haresh Tripathi                             Cisco   \n",
       "12          13   Haresh Tripathi                             Cisco   \n",
       "13          14   Haresh Tripathi                             Cisco   \n",
       "14          15      James Jarvis      Alliance Boots Holdings Ltd.   \n",
       "15          16      James Jarvis                               UBS   \n",
       "16          17      James Jarvis      Alliance Boots Holdings Ltd.   \n",
       "17          18      James Jarvis  Specsavers Optical Group Limited   \n",
       "18          19         Jose Ossa                          Vanguard   \n",
       "19          20         Jose Ossa                          Vanguard   \n",
       "\n",
       "                               Stage     Amount   Expected Revenue  \\\n",
       "0                    Signed Contract      7680.0            7680.0   \n",
       "1                   Verbal Agreement      6400.0            5760.0   \n",
       "2                   Verbal Agreement      3600.0            3240.0   \n",
       "3                   Verbal Agreement      3600.0            3240.0   \n",
       "4                    Signed Contract     50224.0           50224.0   \n",
       "5                    Signed Contract    205842.0          205842.0   \n",
       "6                    Signed Contract    192066.0          192066.0   \n",
       "7             Proposal On-desk Stage     50000.0           30000.0   \n",
       "8   Opportunity Identification Stage  10000000.0         3000000.0   \n",
       "9         Proposal Preparation Stage    148200.0           74100.0   \n",
       "10        Proposal Preparation Stage    500000.0          250000.0   \n",
       "11                   Signed Contract     68628.0           68628.0   \n",
       "12        Proposal Preparation Stage    800000.0          400000.0   \n",
       "13        Proposal Preparation Stage     10000.0            5000.0   \n",
       "14            Proposal On-desk Stage    750000.0          525000.0   \n",
       "15  Opportunity Identification Stage   7000000.0         3500000.0   \n",
       "16  Opportunity Identification Stage    350000.0          105000.0   \n",
       "17  Opportunity Identification Stage   2500000.0          750000.0   \n",
       "18    Negotiation / Short-list Stage    718411.0          574728.8   \n",
       "19                  Verbal Agreement     61920.0           55728.0   \n",
       "\n",
       "    Probability         Service Category                        Service Line  \\\n",
       "0             1                      NaN                Enterprise Solutions   \n",
       "1             1                      NaN                Enterprise Solutions   \n",
       "2             1                      NaN                Enterprise Solutions   \n",
       "3             1                      NaN                Enterprise Solutions   \n",
       "4             1        Mainframe Systems           Technology Build Services   \n",
       "5             1                      NaN           Technology Build Services   \n",
       "6             1                      NaN           Technology Build Services   \n",
       "7             1        Mainframe Systems           Technology Build Services   \n",
       "8             0                      NaN        Application Managed Services   \n",
       "9             1                      NaN           Technology Build Services   \n",
       "10            1                      NaN                Enterprise Solutions   \n",
       "11            1             Java Systems           Technology Build Services   \n",
       "12            1                      NaN  Infrastructure Management Services   \n",
       "13            1                      NaN        Application Managed Services   \n",
       "14            1  Domain-specific Testing                 Quality and Testing   \n",
       "15            1                      NaN        Application Managed Services   \n",
       "16            0                      NaN                 Quality and Testing   \n",
       "17            0                      NaN                Enterprise Solutions   \n",
       "18            1        Microsoft Systems           Technology Build Services   \n",
       "19            1                      NaN                 Quality and Testing   \n",
       "\n",
       "    Stage Number  New Business   Account Type      Billing Type  MSA Signed  \\\n",
       "0              8             0  US-Central BU  Time and Expense           0   \n",
       "1              7             0  US-Central BU  Time and Expense           0   \n",
       "2              7             0  US-Central BU  Time and Expense           0   \n",
       "3              7             0  US-Central BU  Time and Expense           0   \n",
       "4              8             0   WellPoint BU  Flat Fee Monthly           0   \n",
       "5              8             0   WellPoint BU  Flat Fee Monthly           0   \n",
       "6              8             0   WellPoint BU  Flat Fee Monthly           0   \n",
       "7              5             0  US-Central BU  Time and Expense           0   \n",
       "8              3             0     US-West BU  Flat Fee Monthly           0   \n",
       "9              4             0     US-West BU         Fixed Bid           0   \n",
       "10             4             0     US-West BU  Flat Fee Monthly           1   \n",
       "11             8             1          Cisco  Flat Fee Monthly           0   \n",
       "12             4             0          Cisco  Time and Expense           0   \n",
       "13             4             0          Cisco  T and E with Cap           0   \n",
       "14             5             0      Europe BU  Flat Fee Monthly           1   \n",
       "15             3             1      Europe BU  Flat Fee Monthly           0   \n",
       "16             3             0      Europe BU  Time and Expense           1   \n",
       "17             3             1      Europe BU         Fixed Bid           0   \n",
       "18             6             0     US-East BU         Fixed Bid           0   \n",
       "19             7             0     US-East BU  Time and Expense           0   \n",
       "\n",
       "   Unsolicited Proposal              Deliverable Type  \n",
       "0                    No       Scope of Work / Project  \n",
       "1                    No       Scope of Work / Project  \n",
       "2                    No       Scope of Work / Project  \n",
       "3                    No       Scope of Work / Project  \n",
       "4                    No            Staff Augmentation  \n",
       "5                    No            Staff Augmentation  \n",
       "6                    No            Staff Augmentation  \n",
       "7                    No            Staff Augmentation  \n",
       "8                   Yes  Managed Services / SLA Based  \n",
       "9                    No       Scope of Work / Project  \n",
       "10                   No  Managed Services / SLA Based  \n",
       "11                  Yes            Staff Augmentation  \n",
       "12                  Yes            Staff Augmentation  \n",
       "13                   No            Staff Augmentation  \n",
       "14                   No            Staff Augmentation  \n",
       "15                  Yes  Managed Services / SLA Based  \n",
       "16                   No            Staff Augmentation  \n",
       "17                   No       Scope of Work / Project  \n",
       "18                   No       Scope of Work / Project  \n",
       "19                   No            Staff Augmentation  "
      ]
     },
     "execution_count": 16,
     "metadata": {},
     "output_type": "execute_result"
    }
   ],
   "source": [
    "df = pd.read_csv(f'{DATA}UST22.csv')\n",
    "df.head(20)"
   ]
  },
  {
   "cell_type": "code",
   "execution_count": 17,
   "metadata": {},
   "outputs": [
    {
     "data": {
      "text/plain": [
       "Index(['Project ID', 'Opportunity Owner', 'Account Name', 'Stage', ' Amount ',\n",
       "       'Expected Revenue', 'Probability', 'Service Category', 'Service Line',\n",
       "       'Stage Number', 'New Business', 'Account Type', 'Billing Type',\n",
       "       'MSA Signed', 'Unsolicited Proposal', 'Deliverable Type'],\n",
       "      dtype='object')"
      ]
     },
     "execution_count": 17,
     "metadata": {},
     "output_type": "execute_result"
    }
   ],
   "source": [
    "df.columns"
   ]
  },
  {
   "cell_type": "code",
   "execution_count": 29,
   "metadata": {},
   "outputs": [
    {
     "name": "stdout",
     "output_type": "stream",
     "text": [
      "mean amount: $292560.71\n",
      "median amount: $42525.0\n"
     ]
    },
    {
     "data": {
      "text/html": [
       "<div>\n",
       "<style scoped>\n",
       "    .dataframe tbody tr th:only-of-type {\n",
       "        vertical-align: middle;\n",
       "    }\n",
       "\n",
       "    .dataframe tbody tr th {\n",
       "        vertical-align: top;\n",
       "    }\n",
       "\n",
       "    .dataframe thead th {\n",
       "        text-align: right;\n",
       "    }\n",
       "</style>\n",
       "<table border=\"1\" class=\"dataframe\">\n",
       "  <thead>\n",
       "    <tr style=\"text-align: right;\">\n",
       "      <th></th>\n",
       "      <th>Amount</th>\n",
       "      <th>Expected Revenue</th>\n",
       "    </tr>\n",
       "  </thead>\n",
       "  <tbody>\n",
       "    <tr>\n",
       "      <th>count</th>\n",
       "      <td>6.891000e+03</td>\n",
       "      <td>6.891000e+03</td>\n",
       "    </tr>\n",
       "    <tr>\n",
       "      <th>mean</th>\n",
       "      <td>2.925607e+05</td>\n",
       "      <td>1.115754e+05</td>\n",
       "    </tr>\n",
       "    <tr>\n",
       "      <th>std</th>\n",
       "      <td>1.916039e+06</td>\n",
       "      <td>8.090385e+05</td>\n",
       "    </tr>\n",
       "    <tr>\n",
       "      <th>min</th>\n",
       "      <td>-9.009600e+05</td>\n",
       "      <td>-9.009600e+05</td>\n",
       "    </tr>\n",
       "    <tr>\n",
       "      <th>25%</th>\n",
       "      <td>6.306300e+03</td>\n",
       "      <td>0.000000e+00</td>\n",
       "    </tr>\n",
       "    <tr>\n",
       "      <th>50%</th>\n",
       "      <td>4.252500e+04</td>\n",
       "      <td>7.500000e+03</td>\n",
       "    </tr>\n",
       "    <tr>\n",
       "      <th>75%</th>\n",
       "      <td>1.350100e+05</td>\n",
       "      <td>6.162568e+04</td>\n",
       "    </tr>\n",
       "    <tr>\n",
       "      <th>max</th>\n",
       "      <td>9.100000e+07</td>\n",
       "      <td>3.960000e+07</td>\n",
       "    </tr>\n",
       "  </tbody>\n",
       "</table>\n",
       "</div>"
      ],
      "text/plain": [
       "            Amount   Expected Revenue\n",
       "count  6.891000e+03      6.891000e+03\n",
       "mean   2.925607e+05      1.115754e+05\n",
       "std    1.916039e+06      8.090385e+05\n",
       "min   -9.009600e+05     -9.009600e+05\n",
       "25%    6.306300e+03      0.000000e+00\n",
       "50%    4.252500e+04      7.500000e+03\n",
       "75%    1.350100e+05      6.162568e+04\n",
       "max    9.100000e+07      3.960000e+07"
      ]
     },
     "execution_count": 29,
     "metadata": {},
     "output_type": "execute_result"
    }
   ],
   "source": [
    "print(f'mean amount: ${round(df[\" Amount \"].mean(), 2)}')\n",
    "print(f'median amount: ${round(df[\" Amount \"].median(), 2)}')\n",
    "df[[' Amount ', 'Expected Revenue']].describe()"
   ]
  },
  {
   "cell_type": "code",
   "execution_count": 39,
   "metadata": {},
   "outputs": [
    {
     "data": {
      "text/plain": [
       "<matplotlib.collections.PathCollection at 0x7ff1e0660a90>"
      ]
     },
     "execution_count": 39,
     "metadata": {},
     "output_type": "execute_result"
    },
    {
     "data": {
      "image/png": "[encoded data removed]",
      "text/plain": [
       "<Figure size 432x288 with 1 Axes>"
      ]
     },
     "metadata": {
      "needs_background": "light"
     },
     "output_type": "display_data"
    }
   ],
   "source": [
    "plt.scatter(df[' Amount '], df['Expected Revenue'])"
   ]
  },
  {
   "cell_type": "code",
   "execution_count": 37,
   "metadata": {},
   "outputs": [
    {
     "data": {
      "text/plain": [
       "<matplotlib.colorbar.Colorbar at 0x7ff1e06e7950>"
      ]
     },
     "execution_count": 37,
     "metadata": {},
     "output_type": "execute_result"
    },
    {
     "data": {
      "image/png": "[encoded data removed]",
      "text/plain": [
       "<Figure size 432x288 with 2 Axes>"
      ]
     },
     "metadata": {
      "needs_background": "light"
     },
     "output_type": "display_data"
    }
   ],
   "source": [
    "rng = np.random.RandomState(0)\n",
    "x = df[' Amount ']\n",
    "y = df['Expected Revenue']\n",
    "colors = rng.rand(df.shape[0])\n",
    "sizes = 1000 * rng.rand(df.shape[0])\n",
    "plt.scatter(x, y, c=colors, s=sizes, alpha=.5)\n",
    "plt.colorbar() "
   ]
  },
  {
   "cell_type": "code",
   "execution_count": 41,
   "metadata": {},
   "outputs": [
    {
     "data": {
      "text/html": [
       "<div>\n",
       "<style scoped>\n",
       "    .dataframe tbody tr th:only-of-type {\n",
       "        vertical-align: middle;\n",
       "    }\n",
       "\n",
       "    .dataframe tbody tr th {\n",
       "        vertical-align: top;\n",
       "    }\n",
       "\n",
       "    .dataframe thead th {\n",
       "        text-align: right;\n",
       "    }\n",
       "</style>\n",
       "<table border=\"1\" class=\"dataframe\">\n",
       "  <thead>\n",
       "    <tr style=\"text-align: right;\">\n",
       "      <th></th>\n",
       "      <th>Total</th>\n",
       "      <th>Percent</th>\n",
       "    </tr>\n",
       "  </thead>\n",
       "  <tbody>\n",
       "    <tr>\n",
       "      <th>Service Category</th>\n",
       "      <td>673</td>\n",
       "      <td>9.766362</td>\n",
       "    </tr>\n",
       "    <tr>\n",
       "      <th>Unsolicited Proposal</th>\n",
       "      <td>9</td>\n",
       "      <td>0.130605</td>\n",
       "    </tr>\n",
       "    <tr>\n",
       "      <th>Account Type</th>\n",
       "      <td>6</td>\n",
       "      <td>0.087070</td>\n",
       "    </tr>\n",
       "    <tr>\n",
       "      <th>Deliverable Type</th>\n",
       "      <td>5</td>\n",
       "      <td>0.072558</td>\n",
       "    </tr>\n",
       "    <tr>\n",
       "      <th>Billing Type</th>\n",
       "      <td>2</td>\n",
       "      <td>0.029023</td>\n",
       "    </tr>\n",
       "  </tbody>\n",
       "</table>\n",
       "</div>"
      ],
      "text/plain": [
       "                      Total   Percent\n",
       "Service Category        673  9.766362\n",
       "Unsolicited Proposal      9  0.130605\n",
       "Account Type              6  0.087070\n",
       "Deliverable Type          5  0.072558\n",
       "Billing Type              2  0.029023"
      ]
     },
     "execution_count": 41,
     "metadata": {},
     "output_type": "execute_result"
    },
    {
     "data": {
      "image/png": "[encoded data removed]",
      "text/plain": [
       "<Figure size 576x432 with 1 Axes>"
      ]
     },
     "metadata": {
      "needs_background": "light"
     },
     "output_type": "display_data"
    }
   ],
   "source": [
    "def show_missing(data):\n",
    "    total = data.isnull().sum().sort_values(ascending = False)\n",
    "    percent = (data.isnull().sum() / data.isnull().count() * 100).sort_values(ascending = False)\n",
    "    ms = pd.concat([total, percent], axis=1, keys=['Total', 'Percent'])\n",
    "    ms = ms[ms[\"Percent\"] > 0]\n",
    "    \n",
    "    f, ax = plt.subplots(figsize=(8, 6))\n",
    "    plt.xticks(rotation='90')\n",
    "    fig = sns.barplot(ms.index, ms[\"Percent\"], color=\"green\", alpha=0.8)\n",
    "    plt.xlabel('Features', fontsize=15)\n",
    "    plt.ylabel('Percent of missing values', fontsize=15)\n",
    "    plt.title('Percent missing data by feature', fontsize=15) \n",
    "    return ms\n",
    "\n",
    "show_missing(df) "
   ]
  },
  {
   "cell_type": "code",
   "execution_count": 53,
   "metadata": {},
   "outputs": [
    {
     "data": {
      "text/plain": [
       "(6891, 15)"
      ]
     },
     "execution_count": 53,
     "metadata": {},
     "output_type": "execute_result"
    }
   ],
   "source": [
    "df = pd.read_csv(f'{DATA}UST22.csv') # ahhh lolllll\n",
    "drop_column = ['Service Category']\n",
    "df.drop(drop_column, axis=1, inplace = True) \n",
    "\n",
    "df['Billing Type'].fillna(df['Billing Type'].mode()[0], inplace = True)\n",
    "df['Deliverable Type'].fillna(df['Deliverable Type'].mode()[0], inplace = True)\n",
    "df['Account Type'].fillna(df['Account Type'].mode()[0], inplace = True)\n",
    "df['Unsolicited Proposal'].fillna(df['Unsolicited Proposal'].mode()[0], inplace = True) \n",
    "\n",
    "df.shape\n",
    "# show_missing(df)"
   ]
  },
  {
   "cell_type": "code",
   "execution_count": 54,
   "metadata": {},
   "outputs": [
    {
     "data": {
      "text/plain": [
       "Project ID                int64\n",
       "Opportunity Owner        object\n",
       "Account Name             object\n",
       "Stage                    object\n",
       " Amount                 float64\n",
       "Expected Revenue        float64\n",
       "Probability               int64\n",
       "Service Line             object\n",
       "Stage Number              int64\n",
       "New Business              int64\n",
       "Account Type             object\n",
       "Billing Type             object\n",
       "MSA Signed                int64\n",
       "Unsolicited Proposal     object\n",
       "Deliverable Type         object\n",
       "dtype: object"
      ]
     },
     "execution_count": 54,
     "metadata": {},
     "output_type": "execute_result"
    }
   ],
   "source": [
    "df.shape\n",
    "df.dtypes"
   ]
  },
  {
   "cell_type": "code",
   "execution_count": 65,
   "metadata": {},
   "outputs": [
    {
     "name": "stdout",
     "output_type": "stream",
     "text": [
      "New Business       -0.088450\n",
      "Project ID         -0.064737\n",
      " Amount            -0.054859\n",
      "MSA Signed          0.034142\n",
      "Expected Revenue    0.102259\n",
      "Stage Number        0.552487\n",
      "Probability         1.000000\n",
      "Name: Probability, dtype: float64 \n",
      "\n"
     ]
    },
    {
     "data": {
      "text/plain": [
       "New Business       -0.088450\n",
       "Project ID         -0.064737\n",
       " Amount            -0.054859\n",
       "MSA Signed          0.034142\n",
       "Expected Revenue    0.102259\n",
       "Stage Number        0.552487\n",
       "Probability         1.000000\n",
       "Name: Probability, dtype: float64"
      ]
     },
     "execution_count": 65,
     "metadata": {},
     "output_type": "execute_result"
    }
   ],
   "source": [
    "corr = df.corr()['Probability'].sort_values()\n",
    "print(corr.head(15), '\\n')\n",
    "corr.tail(15)"
   ]
  },
  {
   "cell_type": "code",
   "execution_count": 69,
   "metadata": {},
   "outputs": [],
   "source": [
    "all_data = df\n",
    "train_df = pd.get_dummies(\n",
    "    df,\n",
    "    columns = [\n",
    "        \"Opportunity Owner\",\n",
    "        \"Account Name\",\n",
    "        \"Stage\",\n",
    "        \"Service Line\",\n",
    "        \"Stage Number\",\n",
    "        \"Account Type\",\n",
    "        \"Billing Type\",\n",
    "        \"Unsolicited Proposal\",\n",
    "        \"Deliverable Type\",\n",
    "    ],\n",
    "    prefix=[\n",
    "        \"Owner\",\n",
    "        \"Account\",\n",
    "        \"Stg\",\n",
    "        \"SvcLn\",\n",
    "        \"StgNum\",\n",
    "        \"Acctype\",\n",
    "        \"Billngtype\",\n",
    "        \"UnSolProp\",\n",
    "        \"DelType\",\n",
    "    ],\n",
    ") "
   ]
  },
  {
   "cell_type": "code",
   "execution_count": 111,
   "metadata": {},
   "outputs": [
    {
     "data": {
      "text/plain": [
       "((4823, 498), (2068, 498), (4823,), (2068,))"
      ]
     },
     "execution_count": 111,
     "metadata": {},
     "output_type": "execute_result"
    }
   ],
   "source": [
    "from sklearn.model_selection import (\n",
    "    train_test_split,\n",
    "    KFold, cross_val_score,\n",
    "    cross_val_predict,\n",
    "    GridSearchCV,\n",
    ")\n",
    "\n",
    "df_no_labels = train_df.drop('Probability', axis=1) # The data without the target feature\n",
    "label = df['Probability'] # The target feature\n",
    "\n",
    "X_train, X_test, y_train, y_test = train_test_split(\n",
    "    df_no_labels,\n",
    "    label,\n",
    "    test_size=0.3,\n",
    "    random_state=42,\n",
    ")\n",
    "\n",
    "X_train.shape, X_test.shape, y_train.shape, y_test.shape"
   ]
  },
  {
   "cell_type": "markdown",
   "metadata": {},
   "source": [
    "# Logistic Regression"
   ]
  },
  {
   "cell_type": "code",
   "execution_count": 86,
   "metadata": {},
   "outputs": [
    {
     "data": {
      "text/plain": [
       "LogisticRegression(C=1.0, class_weight=None, dual=False, fit_intercept=True,\n",
       "                   intercept_scaling=1, l1_ratio=None, max_iter=100,\n",
       "                   multi_class='auto', n_jobs=None, penalty='l2',\n",
       "                   random_state=None, solver='lbfgs', tol=0.0001, verbose=0,\n",
       "                   warm_start=False)"
      ]
     },
     "execution_count": 86,
     "metadata": {},
     "output_type": "execute_result"
    }
   ],
   "source": [
    "from sklearn.linear_model import LogisticRegression\n",
    "\n",
    "logreg = LogisticRegression()\n",
    "logreg.fit(X_train, y_train)"
   ]
  },
  {
   "cell_type": "code",
   "execution_count": 87,
   "metadata": {},
   "outputs": [],
   "source": [
    "y_pred = logreg.predict(X_test)"
   ]
  },
  {
   "cell_type": "code",
   "execution_count": 105,
   "metadata": {},
   "outputs": [
    {
     "name": "stdout",
     "output_type": "stream",
     "text": [
      "accuracy: %96.325\n",
      "[[ 869    2]\n",
      " [  74 1123]]\n"
     ]
    },
    {
     "data": {
      "image/png": "[encoded data removed]",
      "text/plain": [
       "<Figure size 432x288 with 2 Axes>"
      ]
     },
     "metadata": {
      "needs_background": "light"
     },
     "output_type": "display_data"
    }
   ],
   "source": [
    "from sklearn import metrics\n",
    "def fmt(s):\n",
    "    return '%' + str(round(s * 100, 4))\n",
    "print(f'accuracy: {fmt(logreg.score(X_test, y_test))}')\n",
    "\n",
    "heatmap = sns.heatmap(\n",
    "    metrics.confusion_matrix(y_test, y_pred),\n",
    "    annot=True,\n",
    "    fmt='.0f',\n",
    "    cmap='summer',\n",
    ")\n",
    "\n",
    "heatmap.set_xlabel('Actual')\n",
    "heatmap.set_ylabel('Predicted')\n",
    "\n",
    "print(metrics.confusion_matrix(y_test, y_pred))"
   ]
  },
  {
   "cell_type": "markdown",
   "metadata": {},
   "source": [
    "# Random Forest"
   ]
  },
  {
   "cell_type": "code",
   "execution_count": 112,
   "metadata": {},
   "outputs": [
    {
     "name": "stdout",
     "output_type": "stream",
     "text": [
      "--------------The Accuracy of the model----------------------------\n",
      "The accuracy of the Random Forest Classifier is 99.56\n",
      "The cross validated score for Random Forest Classifier is: 99.01\n",
      "The cross validated score (5)for Random Forest Classifier is: 98.16\n"
     ]
    }
   ],
   "source": [
    "from sklearn.ensemble import RandomForestClassifier\n",
    "model = RandomForestClassifier(criterion='gini', n_estimators=700, min_samples_split=10,min_samples_leaf=1, max_features='auto',oob_score=True, random_state=1,n_jobs=-1)\n",
    "model.fit(X_train,y_train)\n",
    "y_pred_rm=model.predict(X_test)\n",
    "print('--------------The Accuracy of the model----------------------------')\n",
    "print('The accuracy of the Random Forest Classifier is', round(metrics.accuracy_score(y_pred_rm,y_test)*100,2))\n",
    "# K fold Cross Validation\n",
    "kfold = KFold(n_splits=10, random_state=22)\n",
    "# k=10, split the data into 10 equal parts\n",
    "result_rm=cross_val_score(model,df_no_labels,label,cv=10,scoring='accuracy')\n",
    "print('The cross validated score for Random Forest Classifier is:',round(result_rm.mean()*100,2))\n",
    "y_pred = cross_val_predict(model,df_no_labels, label,cv=10)\n",
    "kfold = KFold(n_splits=5, random_state=22)\n",
    "# k=5, split the data into 5 equal parts result_rm1=cross_ \n",
    "kfold = KFold(n_splits=5, random_state=22)\n",
    "# k=5, split the data into 5 equal parts\n",
    "result_rm1=cross_val_score(model,df_no_labels,label,cv=5,scoring='accuracy')\n",
    "print('The cross validated score (5)for Random Forest Classifier is:',round(result_rm1.mean()*100,2))\n",
    "#sns.heatmap(confusion_matrix(Targeted_feature,y_pred),annot=True,fmt='3.0f',cmap=\"summer\")\n",
    "#plt.title('Confusion_matrix', y=1.05, size=15) "
   ]
  },
  {
   "cell_type": "code",
   "execution_count": 113,
   "metadata": {},
   "outputs": [
    {
     "name": "stdout",
     "output_type": "stream",
     "text": [
      "              precision    recall  f1-score   support\n",
      "\n",
      "           0       1.00      0.99      0.99       874\n",
      "           1       0.99      1.00      1.00      1194\n",
      "\n",
      "    accuracy                           1.00      2068\n",
      "   macro avg       1.00      1.00      1.00      2068\n",
      "weighted avg       1.00      1.00      1.00      2068\n",
      "\n"
     ]
    },
    {
     "data": {
      "text/plain": [
       "Text(91.68, 0.5, 'predicted label')"
      ]
     },
     "execution_count": 113,
     "metadata": {},
     "output_type": "execute_result"
    },
    {
     "data": {
      "image/png": "[encoded data removed]",
      "text/plain": [
       "<Figure size 432x288 with 1 Axes>"
      ]
     },
     "metadata": {
      "needs_background": "light"
     },
     "output_type": "display_data"
    }
   ],
   "source": [
    "print(metrics.classification_report(y_pred_rm, y_test)) \n",
    "mat = metrics.confusion_matrix(y_test, y_pred_rm)\n",
    "sns.heatmap(\n",
    "    mat.T,\n",
    "    square=True,\n",
    "    annot=True,\n",
    "    fmt='d',\n",
    "    cbar=False,\n",
    ")\n",
    "plt.xlabel('true label')\n",
    "plt.ylabel('predicted label') "
   ]
  },
  {
   "cell_type": "code",
   "execution_count": null,
   "metadata": {},
   "outputs": [],
   "source": []
  }
 ],
 "metadata": {
  "kernelspec": {
   "display_name": "Python 3",
   "language": "python",
   "name": "python3"
  },
  "language_info": {
   "codemirror_mode": {
    "name": "ipython",
    "version": 3
   },
   "file_extension": ".py",
   "mimetype": "text/x-python",
   "name": "python",
   "nbconvert_exporter": "python",
   "pygments_lexer": "ipython3",
   "version": "3.7.6"
  }
 },
 "nbformat": 4,
 "nbformat_minor": 4
}
